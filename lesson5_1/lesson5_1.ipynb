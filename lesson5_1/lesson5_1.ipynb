{
 "cells": [
  {
   "cell_type": "code",
   "execution_count": 2,
   "metadata": {},
   "outputs": [
    {
     "name": "stdout",
     "output_type": "stream",
     "text": [
      "您的BMI: 25.969529085872576\n"
     ]
    }
   ],
   "source": [
    "height = float(input(\"請輸入身高(公分):\"))\n",
    "weight = float(input(\"請輸入體重(公斤):\"))\n",
    "print(\"您的BMI:\",weight/(height/100)**2)"
   ]
  },
  {
   "cell_type": "code",
   "execution_count": 3,
   "metadata": {},
   "outputs": [
    {
     "name": "stdout",
     "output_type": "stream",
     "text": [
      "您的身高: 152.0 公分\n",
      "您的體重: 62.0 公斤\n",
      "您的BMI值: 26.83518005540166\n",
      "體重須注意\n",
      "體重過重\n"
     ]
    }
   ],
   "source": [
    "try:\n",
    "    height = float(input('請輸入身高(公分):'))\n",
    "    print('您的身高:', height, '公分')\n",
    "    weight = float(input('請輸入體重(公斤):'))\n",
    "    print('您的體重:', weight, '公斤')\n",
    "    BMI = weight / (height/100)**2\n",
    "\n",
    "    print('您的BMI值:', BMI)\n",
    "    \n",
    "    if(BMI >= 18.5 and BMI < 24):\n",
    "        print(\"體重正常\")\n",
    "\n",
    "    else:\n",
    "        print(\"體重須注意\")\n",
    "        \n",
    "        if(BMI < 18.5):\n",
    "            print(\"體重過輕\")\n",
    "\n",
    "        elif(BMI >= 24 and BMI < 27):\n",
    "            print(\"體重過重\")\n",
    "\n",
    "        elif(BMI >= 27 and BMI < 30):\n",
    "            print(\"輕度肥胖\")\n",
    "\n",
    "        elif(BMI >= 30 and BMI < 35):\n",
    "            print(\"中度肥胖\")\n",
    "\n",
    "        else:\n",
    "            print(\"重度肥胖\")\n",
    "\n",
    "except:\n",
    "    print(\"輸入錯誤! 請輸入數字!!!\")"
   ]
  },
  {
   "cell_type": "code",
   "execution_count": 4,
   "metadata": {},
   "outputs": [
    {
     "name": "stdout",
     "output_type": "stream",
     "text": [
      "1~100的加總是: 5050\n"
     ]
    }
   ],
   "source": [
    "#1 ~ 100的加總\n",
    "\n",
    "value = 1\n",
    "total = 0\n",
    "while value <= 100: \n",
    "    total += value   \n",
    "    value += 1\n",
    "\n",
    "print(\"1~100的加總是:\", total)"
   ]
  },
  {
   "cell_type": "code",
   "execution_count": 5,
   "metadata": {},
   "outputs": [
    {
     "name": "stdout",
     "output_type": "stream",
     "text": [
      "1-100的加總是： 5050\n"
     ]
    }
   ],
   "source": [
    "value = 1\n",
    "total = 0\n",
    "while value <= 100:\n",
    "    total += value\n",
    "    value += 1\n",
    "\n",
    "print(\"1-100的加總是：\", total)"
   ]
  },
  {
   "cell_type": "code",
   "execution_count": 6,
   "metadata": {},
   "outputs": [
    {
     "name": "stdout",
     "output_type": "stream",
     "text": [
      "1~100的加總是: 5050\n"
     ]
    }
   ],
   "source": [
    "#1 ~ 100的加總\n",
    "value = 1\n",
    "total = 0\n",
    "while True: \n",
    "    total += value   \n",
    "    value += 1\n",
    "    if value > 100:\n",
    "        break\n",
    "\n",
    "print(\"1~100的加總是:\", total)"
   ]
  },
  {
   "cell_type": "code",
   "execution_count": 8,
   "metadata": {},
   "outputs": [
    {
     "name": "stdout",
     "output_type": "stream",
     "text": [
      "1-100的加總是: 5050\n"
     ]
    }
   ],
   "source": [
    "value = 1\n",
    "total =0\n",
    "while True:\n",
    "    total += value\n",
    "    value += 1\n",
    "    if value > 100: #if break的用法，容易落入無限迴圈\n",
    "        break #強制跳出\n",
    "\n",
    "print(\"1-100的加總是:\",total)\n"
   ]
  }
 ],
 "metadata": {
  "kernelspec": {
   "display_name": "Python 3",
   "language": "python",
   "name": "python3"
  },
  "language_info": {
   "codemirror_mode": {
    "name": "ipython",
    "version": 3
   },
   "file_extension": ".py",
   "mimetype": "text/x-python",
   "name": "python",
   "nbconvert_exporter": "python",
   "pygments_lexer": "ipython3",
   "version": "3.10.8"
  }
 },
 "nbformat": 4,
 "nbformat_minor": 2
}
